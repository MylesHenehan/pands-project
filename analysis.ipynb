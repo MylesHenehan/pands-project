{
 "cells": [
  {
   "cell_type": "markdown",
   "metadata": {},
   "source": [
    "# Iris Data Set Project\n",
    "Author: Myles Henehan<br/>Student Number: G00439446<br/>Module: Programming and Scripting"
   ]
  },
  {
   "cell_type": "markdown",
   "metadata": {},
   "source": [
    "## Project Summary"
   ]
  },
  {
   "cell_type": "markdown",
   "metadata": {
    "vscode": {
     "languageId": "plaintext"
    }
   },
   "source": [
    "This project consists of an exploration of the Iris Data Set, using Python to examine its attributes and form a conclusion about the data contained within. There will be 3 main aims to this project; the first will be to identify the variables present in the data set and export each of them to a single text file. The second approach will be to produce representations of said variables in the form of histograms, and save them as png files. Finally, we will produce a scatter plot of each of the variables, and conclude by providing any other relevant analysis that may be of interest to someone investigating this data set.\n"
   ]
  },
  {
   "cell_type": "markdown",
   "metadata": {},
   "source": [
    "## Background of the Iris Data Set"
   ]
  },
  {
   "cell_type": "markdown",
   "metadata": {},
   "source": [
    "First introduced in 1936 by British statistician Ronald Fisher in his paper titled \"The use of multiple measurements in taxonomic problems,\" the Iris Data set is a staple in the field of machine learning and statistics, and serves as a simple, straightforward source of data through which beginners in the field of data analytics can build up their knowledge.\n",
    "\n",
    "The data set contains 150 instances, split evenly between 3 different types (otherwise known as classes) of Iris flower. These types are setosa, versicolor, and virginica. Moreover, each flower has 4 different features (known as variables): sepal length, sepal width, petal length and petal width. This combination of classes and variables gives students in the field of data science a simple yet all-encompassing set of data through which to explore data representation using Python."
   ]
  },
  {
   "cell_type": "markdown",
   "metadata": {},
   "source": [
    "## Variable Types"
   ]
  },
  {
   "cell_type": "markdown",
   "metadata": {},
   "source": [
    "#### Sepal Length"
   ]
  },
  {
   "cell_type": "markdown",
   "metadata": {},
   "source": [
    "#### Sepal Width"
   ]
  },
  {
   "cell_type": "markdown",
   "metadata": {},
   "source": [
    "#### Petal Length\n"
   ]
  },
  {
   "cell_type": "markdown",
   "metadata": {},
   "source": [
    "#### Petal Width"
   ]
  },
  {
   "cell_type": "markdown",
   "metadata": {},
   "source": [
    "## Libraries"
   ]
  },
  {
   "cell_type": "markdown",
   "metadata": {},
   "source": [
    "## Representations"
   ]
  },
  {
   "cell_type": "markdown",
   "metadata": {},
   "source": [
    "## Conclusion"
   ]
  },
  {
   "cell_type": "markdown",
   "metadata": {},
   "source": []
  },
  {
   "cell_type": "markdown",
   "metadata": {},
   "source": [
    "## References\n",
    "\n",
    "Fisher,R. A.. (1988). Iris. UCI Machine Learning Repository. https://doi.org/10.24432/C56C76."
   ]
  },
  {
   "cell_type": "markdown",
   "metadata": {},
   "source": []
  }
 ],
 "metadata": {
  "language_info": {
   "name": "python"
  }
 },
 "nbformat": 4,
 "nbformat_minor": 2
}
